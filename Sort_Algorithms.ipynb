{
  "nbformat": 4,
  "nbformat_minor": 0,
  "metadata": {
    "colab": {
      "name": "Sort Algorithms.ipynb",
      "provenance": [],
      "collapsed_sections": [],
      "authorship_tag": "ABX9TyM9Wi5grxRGNpejr5ArYRn5",
      "include_colab_link": true
    },
    "kernelspec": {
      "name": "python3",
      "display_name": "Python 3"
    }
  },
  "cells": [
    {
      "cell_type": "markdown",
      "metadata": {
        "id": "view-in-github",
        "colab_type": "text"
      },
      "source": [
        "<a href=\"https://colab.research.google.com/github/adielwesley/SortAlgorithms/blob/master/Sort_Algorithms.ipynb\" target=\"_parent\"><img src=\"https://colab.research.google.com/assets/colab-badge.svg\" alt=\"Open In Colab\"/></a>"
      ]
    },
    {
      "cell_type": "markdown",
      "metadata": {
        "id": "gHyNH96duqlr",
        "colab_type": "text"
      },
      "source": [
        "#**Sort Algorithms**"
      ]
    },
    {
      "cell_type": "code",
      "metadata": {
        "id": "juvMTGRiu9sW",
        "colab_type": "code",
        "colab": {}
      },
      "source": [
        "import numpy as np"
      ],
      "execution_count": 0,
      "outputs": []
    },
    {
      "cell_type": "markdown",
      "metadata": {
        "id": "v2q0KNoduyBE",
        "colab_type": "text"
      },
      "source": [
        "# Bubble Sort"
      ]
    },
    {
      "cell_type": "code",
      "metadata": {
        "id": "yF14NddNupp6",
        "colab_type": "code",
        "outputId": "694f85af-5a5e-4a71-b8c8-63349b13f7d0",
        "colab": {
          "base_uri": "https://localhost:8080/",
          "height": 34
        }
      },
      "source": [
        "valuesArray = np.random.randint(30, size=10)\n",
        "\n",
        "def buble_sort(array):\n",
        "  changed = True\n",
        "  while (changed):\n",
        "    changed = False\n",
        "    for i in range(0, len(array)-1):\n",
        "      if array[i] > array[i+1]:\n",
        "        array[i], array[i+1] = array[i+1], array[i]\n",
        "        changed = True\n",
        "  return array\n",
        "\n",
        "print(buble_sort(valuesArray))\n",
        "\n"
      ],
      "execution_count": 30,
      "outputs": [
        {
          "output_type": "stream",
          "text": [
            "[ 1  6 12 12 13 20 22 25 26 28]\n"
          ],
          "name": "stdout"
        }
      ]
    },
    {
      "cell_type": "markdown",
      "metadata": {
        "id": "EnWCFwlSnuQw",
        "colab_type": "text"
      },
      "source": [
        "#Insertion Sort"
      ]
    },
    {
      "cell_type": "code",
      "metadata": {
        "id": "iUHO-mBtzwe8",
        "colab_type": "code",
        "colab": {
          "base_uri": "https://localhost:8080/",
          "height": 34
        },
        "outputId": "12f5377d-ca1d-4230-b9fd-05b15f62270f"
      },
      "source": [
        "valuesArray = np.random.randint(30, size=10)\n",
        "\n",
        "def insertion_sort(array):\n",
        "  for i in range(1,len(array)):\n",
        "    chosen = array[i]\n",
        "    j = i-1\n",
        "    while j >= 0 and chosen < array[j]:\n",
        "      array[j+1] = array[j]\n",
        "      j -= 1\n",
        "    array[j+1] = chosen\n",
        "  return array\n",
        "\n",
        "print(insertion_sort(valuesArray))"
      ],
      "execution_count": 32,
      "outputs": [
        {
          "output_type": "stream",
          "text": [
            "[ 4  5  6 10 14 16 19 25 26 27]\n"
          ],
          "name": "stdout"
        }
      ]
    },
    {
      "cell_type": "code",
      "metadata": {
        "id": "EhZaluzspVXc",
        "colab_type": "code",
        "colab": {}
      },
      "source": [
        ""
      ],
      "execution_count": 0,
      "outputs": []
    }
  ]
}