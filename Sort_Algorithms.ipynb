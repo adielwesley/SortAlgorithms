{
  "nbformat": 4,
  "nbformat_minor": 0,
  "metadata": {
    "colab": {
      "name": "Sort Algorithms.ipynb",
      "provenance": [],
      "collapsed_sections": [],
      "authorship_tag": "ABX9TyO8ociwHYoSFAnRxU+A4SQR",
      "include_colab_link": true
    },
    "kernelspec": {
      "name": "python3",
      "display_name": "Python 3"
    }
  },
  "cells": [
    {
      "cell_type": "markdown",
      "metadata": {
        "id": "view-in-github",
        "colab_type": "text"
      },
      "source": [
        "<a href=\"https://colab.research.google.com/github/adielwesley/SortAlgorithms/blob/master/Sort_Algorithms.ipynb\" target=\"_parent\"><img src=\"https://colab.research.google.com/assets/colab-badge.svg\" alt=\"Open In Colab\"/></a>"
      ]
    },
    {
      "cell_type": "markdown",
      "metadata": {
        "id": "gHyNH96duqlr",
        "colab_type": "text"
      },
      "source": [
        "#**Sort Algorithms**"
      ]
    },
    {
      "cell_type": "code",
      "metadata": {
        "id": "juvMTGRiu9sW",
        "colab_type": "code",
        "colab": {}
      },
      "source": [
        "import numpy as np"
      ],
      "execution_count": 0,
      "outputs": []
    },
    {
      "cell_type": "markdown",
      "metadata": {
        "id": "v2q0KNoduyBE",
        "colab_type": "text"
      },
      "source": [
        "# Bubble Sort"
      ]
    },
    {
      "cell_type": "code",
      "metadata": {
        "id": "yF14NddNupp6",
        "colab_type": "code",
        "colab": {
          "base_uri": "https://localhost:8080/",
          "height": 34
        },
        "outputId": "125e461c-2a94-45bd-f46d-11ef93e640d2"
      },
      "source": [
        "def buble_sort(array):\n",
        "  trocado = True\n",
        "  while (trocado):\n",
        "    trocado = False\n",
        "    for i in range(0, len(array)-1):\n",
        "      if array[i] > array[i+1]:\n",
        "        array[i], array[i+1] = array[i+1], array[i]\n",
        "        trocado = True\n",
        "  return array\n",
        "\n",
        "\n",
        "array = [6,5,4,3,2,1]\n",
        "print(buble_sort(array))\n",
        "\n"
      ],
      "execution_count": 89,
      "outputs": [
        {
          "output_type": "stream",
          "text": [
            "[1, 2, 3, 4, 5, 6]\n"
          ],
          "name": "stdout"
        }
      ]
    },
    {
      "cell_type": "code",
      "metadata": {
        "id": "iUHO-mBtzwe8",
        "colab_type": "code",
        "colab": {}
      },
      "source": [
        ""
      ],
      "execution_count": 0,
      "outputs": []
    }
  ]
}