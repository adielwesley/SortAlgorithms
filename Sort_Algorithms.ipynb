{
  "nbformat": 4,
  "nbformat_minor": 0,
  "metadata": {
    "colab": {
      "name": "Sort Algorithms.ipynb",
      "provenance": [],
      "collapsed_sections": [],
      "authorship_tag": "ABX9TyOVhCcWNBmn2QFafz7PHfH0",
      "include_colab_link": true
    },
    "kernelspec": {
      "name": "python3",
      "display_name": "Python 3"
    }
  },
  "cells": [
    {
      "cell_type": "markdown",
      "metadata": {
        "id": "view-in-github",
        "colab_type": "text"
      },
      "source": [
        "<a href=\"https://colab.research.google.com/github/adielwesley/SortAlgorithms/blob/master/Sort_Algorithms.ipynb\" target=\"_parent\"><img src=\"https://colab.research.google.com/assets/colab-badge.svg\" alt=\"Open In Colab\"/></a>"
      ]
    },
    {
      "cell_type": "markdown",
      "metadata": {
        "id": "gHyNH96duqlr",
        "colab_type": "text"
      },
      "source": [
        "#**Sort Algorithms**"
      ]
    },
    {
      "cell_type": "code",
      "metadata": {
        "id": "juvMTGRiu9sW",
        "colab_type": "code",
        "colab": {}
      },
      "source": [
        "import numpy as np"
      ],
      "execution_count": 0,
      "outputs": []
    },
    {
      "cell_type": "markdown",
      "metadata": {
        "id": "v2q0KNoduyBE",
        "colab_type": "text"
      },
      "source": [
        "# Bubble Sort"
      ]
    },
    {
      "cell_type": "code",
      "metadata": {
        "id": "yF14NddNupp6",
        "colab_type": "code",
        "outputId": "9861fdf9-0c89-432e-d7de-ed5883427d25",
        "colab": {
          "base_uri": "https://localhost:8080/",
          "height": 34
        }
      },
      "source": [
        "valuesArray = [0,6,3,5,2,4,1]\n",
        "\n",
        "def buble_sort(array):\n",
        "  changed = True\n",
        "  while (changed):\n",
        "    changed = False\n",
        "    for i in range(0, len(array)-1):\n",
        "      if array[i] > array[i+1]:\n",
        "        array[i], array[i+1] = array[i+1], array[i]\n",
        "        changed = True\n",
        "  return array\n",
        "\n",
        "print(buble_sort(valuesArray))\n",
        "\n"
      ],
      "execution_count": 25,
      "outputs": [
        {
          "output_type": "stream",
          "text": [
            "[0, 1, 2, 3, 4, 5, 6]\n"
          ],
          "name": "stdout"
        }
      ]
    },
    {
      "cell_type": "markdown",
      "metadata": {
        "id": "EnWCFwlSnuQw",
        "colab_type": "text"
      },
      "source": [
        "#Insertion Sort"
      ]
    },
    {
      "cell_type": "code",
      "metadata": {
        "id": "iUHO-mBtzwe8",
        "colab_type": "code",
        "colab": {
          "base_uri": "https://localhost:8080/",
          "height": 34
        },
        "outputId": "91753ca8-4332-41d3-c122-d27e5f9cb2ef"
      },
      "source": [
        "valuesArray = [0,6,3,5,2,4,1]\n",
        "\n",
        "def insertion_sort(array):\n",
        "  for i in range(1,len(array)):\n",
        "    chosen = array[i]\n",
        "    j = i-1\n",
        "    while j >= 0 and chosen < array[j]:\n",
        "      array[j+1] = array[j]\n",
        "      j -= 1\n",
        "    array[j+1] = chosen\n",
        "  return array\n",
        "\n",
        "print(insertion_sort(valuesArray2))"
      ],
      "execution_count": 26,
      "outputs": [
        {
          "output_type": "stream",
          "text": [
            "[0, 1, 2, 3, 4, 5, 6]\n"
          ],
          "name": "stdout"
        }
      ]
    },
    {
      "cell_type": "code",
      "metadata": {
        "id": "EhZaluzspVXc",
        "colab_type": "code",
        "colab": {}
      },
      "source": [
        ""
      ],
      "execution_count": 0,
      "outputs": []
    }
  ]
}