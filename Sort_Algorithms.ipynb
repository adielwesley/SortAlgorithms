{
  "nbformat": 4,
  "nbformat_minor": 0,
  "metadata": {
    "colab": {
      "name": "Sort Algorithms.ipynb",
      "provenance": [],
      "collapsed_sections": [],
      "authorship_tag": "ABX9TyNv69tZyjqpLW9ZJROIMRHT",
      "include_colab_link": true
    },
    "kernelspec": {
      "name": "python3",
      "display_name": "Python 3"
    }
  },
  "cells": [
    {
      "cell_type": "markdown",
      "metadata": {
        "id": "view-in-github",
        "colab_type": "text"
      },
      "source": [
        "<a href=\"https://colab.research.google.com/github/adielwesley/SortAlgorithms/blob/master/Sort_Algorithms.ipynb\" target=\"_parent\"><img src=\"https://colab.research.google.com/assets/colab-badge.svg\" alt=\"Open In Colab\"/></a>"
      ]
    },
    {
      "cell_type": "markdown",
      "metadata": {
        "id": "gHyNH96duqlr",
        "colab_type": "text"
      },
      "source": [
        "#**Sort Algorithms**"
      ]
    },
    {
      "cell_type": "code",
      "metadata": {
        "id": "juvMTGRiu9sW",
        "colab_type": "code",
        "colab": {}
      },
      "source": [
        "import numpy as np"
      ],
      "execution_count": 0,
      "outputs": []
    },
    {
      "cell_type": "markdown",
      "metadata": {
        "id": "v2q0KNoduyBE",
        "colab_type": "text"
      },
      "source": [
        "# Bubble Sort"
      ]
    },
    {
      "cell_type": "code",
      "metadata": {
        "id": "yF14NddNupp6",
        "colab_type": "code",
        "outputId": "22ab51dc-67b9-449d-8f28-f97c362d3a5d",
        "colab": {
          "base_uri": "https://localhost:8080/",
          "height": 34
        }
      },
      "source": [
        "valuesArray = np.random.randint(30, size=10)\n",
        "\n",
        "def buble_sort(array):\n",
        "  changed = True\n",
        "  while (changed):\n",
        "    changed = False\n",
        "    for i in range(0, len(array)-1):\n",
        "      if array[i] > array[i+1]:\n",
        "        array[i], array[i+1] = array[i+1], array[i]\n",
        "        changed = True\n",
        "  return array\n",
        "\n",
        "print(buble_sort(valuesArray))\n",
        "\n"
      ],
      "execution_count": 145,
      "outputs": [
        {
          "output_type": "stream",
          "text": [
            "[ 2  3  3  5  5  7  9 10 25 29]\n"
          ],
          "name": "stdout"
        }
      ]
    },
    {
      "cell_type": "markdown",
      "metadata": {
        "id": "EnWCFwlSnuQw",
        "colab_type": "text"
      },
      "source": [
        "#Insertion Sort"
      ]
    },
    {
      "cell_type": "code",
      "metadata": {
        "id": "iUHO-mBtzwe8",
        "colab_type": "code",
        "outputId": "211f6d27-a7ec-4983-ee83-af72f3b3b375",
        "colab": {
          "base_uri": "https://localhost:8080/",
          "height": 34
        }
      },
      "source": [
        "valuesArray = np.random.randint(30, size=10)\n",
        "\n",
        "def insertion_sort(array):\n",
        "  for i in range(1,len(array)):\n",
        "    chosen = array[i]\n",
        "    j = i-1\n",
        "    while j >= 0 and chosen < array[j]:\n",
        "      array[j+1] = array[j]\n",
        "      j -= 1\n",
        "    array[j+1] = chosen\n",
        "  return array\n",
        "\n",
        "print(insertion_sort(valuesArray))"
      ],
      "execution_count": 146,
      "outputs": [
        {
          "output_type": "stream",
          "text": [
            "[ 1  2  4  6  8 16 25 25 26 29]\n"
          ],
          "name": "stdout"
        }
      ]
    },
    {
      "cell_type": "markdown",
      "metadata": {
        "id": "7aEbuDLHJWCI",
        "colab_type": "text"
      },
      "source": [
        "#Merge Sort"
      ]
    },
    {
      "cell_type": "code",
      "metadata": {
        "id": "EhZaluzspVXc",
        "colab_type": "code",
        "colab": {
          "base_uri": "https://localhost:8080/",
          "height": 34
        },
        "outputId": "a070d19d-7740-4f85-8849-8462275cc2bc"
      },
      "source": [
        "valuesArray = np.random.randint(30, size=10)  \n",
        "\n",
        "def merge_sort(array, start, end):\n",
        "  if (start+1 < end):\n",
        "    medium = (start + end) // 2\n",
        "    merge_sort(array, start, medium)\n",
        "    merge_sort(array, medium, end)\n",
        "    merge(array, start, medium, end)\n",
        "  return array\n",
        "\n",
        "def merge(array, start, medium, end):\n",
        "  if (end - start > 1):\n",
        "    leftArray = array[start:medium].copy()\n",
        "    rightArray = array[medium:end].copy()\n",
        "\n",
        "    k = start\n",
        "    i = 0\n",
        "    j = 0\n",
        "\n",
        "    while (i < leftArray.size and j < rightArray.size):\n",
        "      if (leftArray[i] <= rightArray[j]):\n",
        "        array[k] = leftArray[i]\n",
        "        i += 1\n",
        "      else:\n",
        "        array[k] = rightArray[j]\n",
        "        j += 1\n",
        "      k += 1\n",
        "\n",
        "    while (i < leftArray.size):\n",
        "      array[k] = leftArray[i]\n",
        "      i += 1\n",
        "      k +=1\n",
        "\n",
        "    while (j < rightArray.size):\n",
        "      array[k] = rightArray[j]\n",
        "      j += 1\n",
        "      k += 1\n",
        "\n",
        "\n",
        "print(merge_sort(valuesArray, 0, valuesArray.size))"
      ],
      "execution_count": 148,
      "outputs": [
        {
          "output_type": "stream",
          "text": [
            "[ 0  2  5  5  7  8 10 17 25 28]\n"
          ],
          "name": "stdout"
        }
      ]
    }
  ]
}